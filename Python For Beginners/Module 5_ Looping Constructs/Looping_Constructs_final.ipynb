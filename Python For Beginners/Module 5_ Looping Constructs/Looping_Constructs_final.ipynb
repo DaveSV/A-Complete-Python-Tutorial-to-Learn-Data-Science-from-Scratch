{
  "nbformat": 4,
  "nbformat_minor": 0,
  "metadata": {
    "kernelspec": {
      "display_name": "Python 3",
      "language": "python",
      "name": "python3"
    },
    "language_info": {
      "codemirror_mode": {
        "name": "ipython",
        "version": 3
      },
      "file_extension": ".py",
      "mimetype": "text/x-python",
      "name": "python",
      "nbconvert_exporter": "python",
      "pygments_lexer": "ipython3",
      "version": "3.7.3"
    },
    "colab": {
      "name": "Looping Constructs_final.ipynb",
      "provenance": []
    }
  },
  "cells": [
    {
      "cell_type": "markdown",
      "metadata": {
        "id": "PPB-RGM4cx-b",
        "colab_type": "text"
      },
      "source": [
        "---\n",
        "---\n",
        "\n",
        "<center><h1> 📍📍 Looping Constructs: 📍📍</h1></center>\n",
        "\n",
        "---"
      ]
    },
    {
      "cell_type": "markdown",
      "metadata": {
        "id": "mXwSALCUcx-f",
        "colab_type": "text"
      },
      "source": [
        "---\n",
        "\n",
        "### 📍📍 FOR LOOP AND RANGE FUNCTION\n",
        "\n",
        "- We use for loop when we want to run a block of code certain number of times.\n",
        " \n",
        "---\n",
        "\n",
        "- When we pass only one argument (considered as **`END_POINT`**) in the range function. The loop starts with **`0`** and runs till **`END_POINT - 1.`**\n"
      ]
    },
    {
      "cell_type": "code",
      "metadata": {
        "id": "ZPCew3lJcx-i",
        "colab_type": "code",
        "outputId": "abec7632-8d96-4c4d-ede8-b54a0c12317a",
        "colab": {}
      },
      "source": [
        "for number in range(4):\n",
        "    print(number)"
      ],
      "execution_count": 0,
      "outputs": [
        {
          "output_type": "stream",
          "text": [
            "0\n",
            "1\n",
            "2\n",
            "3\n"
          ],
          "name": "stdout"
        }
      ]
    },
    {
      "cell_type": "markdown",
      "metadata": {
        "id": "ly7TxfIRcx-o",
        "colab_type": "text"
      },
      "source": [
        "---\n",
        "* When we pass two arguments (first one considered as **`START_POINT`** and second one as **`END_POINT`**). The loop start with **`START_POINT`** and runs till **`END_POINT -1`**."
      ]
    },
    {
      "cell_type": "code",
      "metadata": {
        "id": "rBK12K0Wcx-p",
        "colab_type": "code",
        "outputId": "e42022dd-f031-45aa-a115-c9b740394c62",
        "colab": {}
      },
      "source": [
        "for number in range(1, 5):\n",
        "    print(number)"
      ],
      "execution_count": 0,
      "outputs": [
        {
          "output_type": "stream",
          "text": [
            "1\n",
            "2\n",
            "3\n",
            "4\n"
          ],
          "name": "stdout"
        }
      ]
    },
    {
      "cell_type": "markdown",
      "metadata": {
        "id": "eofvSy29cx-v",
        "colab_type": "text"
      },
      "source": [
        "---\n",
        "\n",
        "* When we pass three arguments (first one considered as **`START_POINT`**, second one as **`END_POINT`** and the last one is **`STEP`**). \n",
        "\n",
        "---"
      ]
    },
    {
      "cell_type": "code",
      "metadata": {
        "id": "mk3V8nAzcx-w",
        "colab_type": "code",
        "outputId": "c86fd2a9-0f32-4e5e-d6b8-5ba1ba244520",
        "colab": {}
      },
      "source": [
        "for number in range(1, 10, 2):\n",
        "    print(number, end= ' ')"
      ],
      "execution_count": 0,
      "outputs": [
        {
          "output_type": "stream",
          "text": [
            "1 3 5 7 9 "
          ],
          "name": "stdout"
        }
      ]
    },
    {
      "cell_type": "markdown",
      "metadata": {
        "id": "wQcfbZs2cx-2",
        "colab_type": "text"
      },
      "source": [
        "---\n",
        "\n",
        "* Iterate a **`String`** using FOR LOOP\n",
        "\n",
        "---"
      ]
    },
    {
      "cell_type": "code",
      "metadata": {
        "id": "DDZ7Y5bycx-3",
        "colab_type": "code",
        "outputId": "26c5f87f-f28c-42a6-cd01-6f24eb085d0c",
        "colab": {}
      },
      "source": [
        "for character in \"analytics_vidhya\":\n",
        "    print(character)"
      ],
      "execution_count": 0,
      "outputs": [
        {
          "output_type": "stream",
          "text": [
            "a\n",
            "n\n",
            "a\n",
            "l\n",
            "y\n",
            "t\n",
            "i\n",
            "c\n",
            "s\n",
            "_\n",
            "v\n",
            "i\n",
            "d\n",
            "h\n",
            "y\n",
            "a\n"
          ],
          "name": "stdout"
        }
      ]
    },
    {
      "cell_type": "markdown",
      "metadata": {
        "id": "DJP3WpLGcx_E",
        "colab_type": "text"
      },
      "source": [
        "---\n",
        "\n",
        "### 📍📍 **`NESTED FOR LOOPS`**\n",
        "\n",
        "- A nested loop is a loop within a loop.\n",
        "- For each step in the outer loop, the inner loop exectues completely. See the below example\n",
        "\n",
        "---"
      ]
    },
    {
      "cell_type": "code",
      "metadata": {
        "id": "VWiztlvTcx_G",
        "colab_type": "code",
        "outputId": "559e7332-7f55-419c-f57d-ca1b8ea70ce9",
        "colab": {}
      },
      "source": [
        "# define the range of outer loop\n",
        "for outer_loop_number in range(1, 3):\n",
        "    \n",
        "    # define the inner loop\n",
        "    for inner_loop_character in \"ABC\":\n",
        "        \n",
        "        print(outer_loop_number, inner_loop_character)"
      ],
      "execution_count": 0,
      "outputs": [
        {
          "output_type": "stream",
          "text": [
            "1 A\n",
            "1 B\n",
            "1 C\n",
            "2 A\n",
            "2 B\n",
            "2 C\n"
          ],
          "name": "stdout"
        }
      ]
    },
    {
      "cell_type": "markdown",
      "metadata": {
        "id": "AaFBHw2Gcx_N",
        "colab_type": "text"
      },
      "source": [
        "---\n",
        "---\n",
        "\n",
        "## 📍📍 WHILE LOOP\n",
        "\n",
        "* Another way to execute a block of code over and over again is using a while statement. \n",
        "* The code in a while clause will be executed as long as the while statement’s condition is True.\n",
        "\n",
        "\n",
        "---\n",
        "\n",
        "***In the below example, we have initialize the variable `number = 0` and we will increment it's value in each iteration. The loop will only continue to run only if the value is less than 7.***\n",
        "\n",
        "---"
      ]
    },
    {
      "cell_type": "code",
      "metadata": {
        "id": "TvUPcziBcx_O",
        "colab_type": "code",
        "outputId": "d2ca4b70-1450-40dd-968e-a146b7f09139",
        "colab": {}
      },
      "source": [
        "number = 0\n",
        "\n",
        "while (number < 7):\n",
        "    print(number)\n",
        "    number = number + 1"
      ],
      "execution_count": 0,
      "outputs": [
        {
          "output_type": "stream",
          "text": [
            "0\n",
            "1\n",
            "2\n",
            "3\n",
            "4\n",
            "5\n",
            "6\n"
          ],
          "name": "stdout"
        }
      ]
    },
    {
      "cell_type": "code",
      "metadata": {
        "id": "_f5Xj9r8cx_a",
        "colab_type": "code",
        "outputId": "476522ff-8bd3-488b-f36a-054972c30391",
        "colab": {}
      },
      "source": [
        "number = 0\n",
        "\n",
        "while (number < 7):\n",
        "    print(number)\n",
        "    number = number + 2"
      ],
      "execution_count": 0,
      "outputs": [
        {
          "output_type": "stream",
          "text": [
            "0\n",
            "2\n",
            "4\n",
            "6\n"
          ],
          "name": "stdout"
        }
      ]
    },
    {
      "cell_type": "markdown",
      "metadata": {
        "id": "Q2LyZKtCcx_g",
        "colab_type": "text"
      },
      "source": [
        "---\n",
        "---\n",
        "\n",
        "### 📍📍 Jump Statements in Python (break, continue and pass)\n",
        "\n",
        "- Using for loops and while loops in Python allow you to automate and repeat tasks in an efficient manner.\n",
        "\n",
        "- But sometimes, an external factor may influence the way your program runs. When this occurs, you may want your program to exit a loop completely, skip part of a loop before continuing, or ignore that external factor. \n",
        "- You can do these actions with break and continue statements.\n",
        "\n",
        "#### 1. Break Statement\n",
        "- In Python, the break statement provides you with the opportunity to exit out of a loop when an external condition is triggered. \n",
        "\n",
        "- You’ll put the break statement within the block of code under your loop statement, usually after a conditional if statement.\n",
        "\n",
        "- The break statement causes a program to break out of a loop.\n",
        "\n",
        "\n",
        "Let’s look at an example that uses the break statement in a for loop:\n",
        "\n"
      ]
    },
    {
      "cell_type": "code",
      "metadata": {
        "id": "buV0FHzXcx_j",
        "colab_type": "code",
        "outputId": "75079f1f-b1e5-4070-e276-dbb875149563",
        "colab": {
          "base_uri": "https://localhost:8080/",
          "height": 121
        }
      },
      "source": [
        "number = 0\n",
        "\n",
        "for number in range(10):\n",
        "    if number == 5:\n",
        "        break    # break here\n",
        "\n",
        "    print('Number is ' + str(number))\n",
        "\n",
        "print('Out of loop')"
      ],
      "execution_count": 0,
      "outputs": [
        {
          "output_type": "stream",
          "text": [
            "Number is 0\n",
            "Number is 1\n",
            "Number is 2\n",
            "Number is 3\n",
            "Number is 4\n",
            "Out of loop\n"
          ],
          "name": "stdout"
        }
      ]
    },
    {
      "cell_type": "markdown",
      "metadata": {
        "id": "YkUc4NPscx_r",
        "colab_type": "text"
      },
      "source": [
        "---\n",
        "\n",
        "***Problem Statement:***\n",
        "\n",
        "- In the following example, user will enter the password which is set to be `data`.\n",
        "- If the password matches, It will print ***`Welcome to the Python Course!!`*** else print ***`Wrong Password!!` *** and user will re-enter the password.\n",
        "- In the fourth trial, it will print ***`One Trial left!!!`***.\n"
      ]
    },
    {
      "cell_type": "code",
      "metadata": {
        "id": "0XdZuAtRcx_t",
        "colab_type": "code",
        "outputId": "4aa10a34-6f32-4a99-dcfe-829207b6eff8",
        "colab": {}
      },
      "source": [
        "password = \"data\"\n",
        "\n",
        "for trial in range(1,5):\n",
        "    \n",
        "    if trial == 4:\n",
        "        print('One trial left!!!')\n",
        "        \n",
        "    \n",
        "    enter_password = input(\"Enter Password: \")\n",
        "        \n",
        "    if enter_password == password:\n",
        "        print(\"Welcome to Python Course!!\")\n",
        "        break\n",
        "        \n",
        "    else:\n",
        "        print(\"Wrong Password!!\")"
      ],
      "execution_count": 0,
      "outputs": [
        {
          "output_type": "stream",
          "text": [
            "Enter Password: 121\n",
            "Wrong Password!!\n",
            "Enter Password: data\n",
            "Welcome to Python Course!!\n"
          ],
          "name": "stdout"
        }
      ]
    },
    {
      "cell_type": "markdown",
      "metadata": {
        "id": "Jlp4QwHQcx_y",
        "colab_type": "text"
      },
      "source": [
        "---\n",
        "\n",
        "#### 2. Continue Statement\n",
        "\n",
        "- The continue statement gives you the option to skip over the part of a loop where an external condition is triggered, but to go on to complete the rest of the loop. \n",
        "\n",
        "- That is, the current iteration of the loop will be disrupted, but the program will return to the top of the loop.\n",
        "\n",
        "- The continue statement will be within the block of code under the loop statement, usually after a conditional if statement.\n",
        "\n",
        "- The continue statement causes a program to skip certain factors that come up within a loop, but then continue through the rest of the loop.\n",
        "\n",
        "\n",
        "Using the same for loop program as in the Break Statement section above, we’ll use a continue statement rather than a break statement:\n"
      ]
    },
    {
      "cell_type": "code",
      "metadata": {
        "id": "6MzPFwLJcx_z",
        "colab_type": "code",
        "outputId": "6b9a862d-5111-457a-e2b2-10aa35a2a6e4",
        "colab": {}
      },
      "source": [
        "number = 0\n",
        "\n",
        "for number in range(10):\n",
        "    if number == 5:\n",
        "        continue    # continue here\n",
        "\n",
        "    print('Number is ' + str(number))\n",
        "\n",
        "print('Out of loop')"
      ],
      "execution_count": 0,
      "outputs": [
        {
          "output_type": "stream",
          "text": [
            "Number is 0\n",
            "Number is 1\n",
            "Number is 2\n",
            "Number is 3\n",
            "Number is 4\n",
            "Number is 6\n",
            "Number is 7\n",
            "Number is 8\n",
            "Number is 9\n",
            "Out of loop\n"
          ],
          "name": "stdout"
        }
      ]
    },
    {
      "cell_type": "markdown",
      "metadata": {
        "id": "sKZs9P3Lcx_4",
        "colab_type": "text"
      },
      "source": [
        "---\n",
        "\n",
        "***Problem Statement:***\n",
        "\n",
        "- In the following example, user will enter the password which is OTP which is set to be `1232`.\n",
        "- If the OTP matches, It will ask user to provide details like ***`Enter Your Name: `*** and ***`Enter Your City\": ` *** and user will re-enter the OTP.\n",
        "- In the fourth trial, it will print ***`One Trial left!!!`***.\n"
      ]
    },
    {
      "cell_type": "code",
      "metadata": {
        "id": "K-IKTkFfcx_5",
        "colab_type": "code",
        "outputId": "d13c30f7-618e-4698-a9dd-5ec21fcade5e",
        "colab": {}
      },
      "source": [
        "OTP = \"1232\"\n",
        "\n",
        "for trial in range(1, 5):\n",
        "    \n",
        "    if trial == 4:\n",
        "        print('One trial left!!!')\n",
        "    \n",
        "    enter_otp = input(\"Enter OTP: \")\n",
        "        \n",
        "    if enter_otp != OTP:\n",
        "        print(\"Try Again !!\")\n",
        "        continue\n",
        "        \n",
        "    else:\n",
        "        name = input(\"Enter Your Name: \")\n",
        "        city_name = input(\"Enter Your City: \")\n",
        "        break"
      ],
      "execution_count": 0,
      "outputs": [
        {
          "output_type": "stream",
          "text": [
            "Enter OTP: 12\n",
            "Try Again !!\n",
            "Enter OTP: 1232\n",
            "Enter Your Name: lakshay\n",
            "Enter Your City: gurgaon\n"
          ],
          "name": "stdout"
        }
      ]
    },
    {
      "cell_type": "code",
      "metadata": {
        "id": "sijgABYLcyAF",
        "colab_type": "code",
        "colab": {}
      },
      "source": [
        ""
      ],
      "execution_count": 0,
      "outputs": []
    },
    {
      "cell_type": "markdown",
      "metadata": {
        "id": "kHt4iB8pcyAN",
        "colab_type": "text"
      },
      "source": [
        "- The difference in using the continue statement rather than a break statement is that our code will continue despite the disruption when the variable number is evaluated as equivalent to 5. \n",
        "\n",
        "\n",
        "---\n",
        "\n",
        "####  Pass Statement\n",
        "\n",
        "- pass is a null operation — when it is executed, nothing happens.\n",
        "- It is useful as a placeholder when a statement is required syntactically, but no code needs to be executed.\n",
        "\n",
        "- The pass statement tells the program to disregard that condition and continue to run the program as usual.\n",
        "\n",
        "\n",
        "Using the same code block as above, let’s replace the break or continue statement with a pass statement:\n"
      ]
    },
    {
      "cell_type": "code",
      "metadata": {
        "id": "RiZ1csWMcyAU",
        "colab_type": "code",
        "outputId": "a64cb69b-b498-4130-b0cf-d0d79f945402",
        "colab": {}
      },
      "source": [
        "number = 0\n",
        "\n",
        "for number in range(10):\n",
        "    if number == 5:\n",
        "        pass    # pass here\n",
        "\n",
        "    print('Number is ' + str(number))\n",
        "\n",
        "print('Out of loop')\n"
      ],
      "execution_count": 0,
      "outputs": [
        {
          "output_type": "stream",
          "text": [
            "Number is 0\n",
            "Number is 1\n",
            "Number is 2\n",
            "Number is 3\n",
            "Number is 4\n",
            "Number is 5\n",
            "Number is 6\n",
            "Number is 7\n",
            "Number is 8\n",
            "Number is 9\n",
            "Out of loop\n"
          ],
          "name": "stdout"
        }
      ]
    },
    {
      "cell_type": "markdown",
      "metadata": {
        "id": "qiFfNkAwcyAc",
        "colab_type": "text"
      },
      "source": [
        "- The pass statement can create minimal classes, or act as a placeholder when working on new code and thinking on an algorithmic level before hammering out details.\n",
        "\n",
        "- The break, continue, and pass statements in Python will allow you to use for loops and while loops more effectively in your code.\n",
        "\n",
        "---"
      ]
    }
  ]
}